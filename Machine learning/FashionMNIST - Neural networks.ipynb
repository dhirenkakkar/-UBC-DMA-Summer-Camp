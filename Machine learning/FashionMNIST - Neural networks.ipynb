{
 "cells": [
  {
   "cell_type": "markdown",
   "metadata": {},
   "source": [
    "# Imports"
   ]
  },
  {
   "cell_type": "code",
   "execution_count": 14,
   "metadata": {},
   "outputs": [],
   "source": [
    "import pandas as pd\n",
    "import numpy as np\n",
    "import matplotlib.pyplot as plt\n",
    "import seaborn as sns\n",
    "%matplotlib inline"
   ]
  },
  {
   "cell_type": "markdown",
   "metadata": {},
   "source": [
    "# Data"
   ]
  },
  {
   "cell_type": "code",
   "execution_count": 15,
   "metadata": {},
   "outputs": [],
   "source": [
    "train = pd.read_csv('fashion-mnist_train.csv')\n",
    "training = np.array(train, dtype = 'float32')"
   ]
  },
  {
   "cell_type": "code",
   "execution_count": 16,
   "metadata": {},
   "outputs": [
    {
     "data": {
      "text/plain": [
       "(60000, 785)"
      ]
     },
     "execution_count": 16,
     "metadata": {},
     "output_type": "execute_result"
    }
   ],
   "source": [
    "train.shape"
   ]
  },
  {
   "cell_type": "code",
   "execution_count": 17,
   "metadata": {},
   "outputs": [
    {
     "data": {
      "text/html": [
       "<div>\n",
       "<style scoped>\n",
       "    .dataframe tbody tr th:only-of-type {\n",
       "        vertical-align: middle;\n",
       "    }\n",
       "\n",
       "    .dataframe tbody tr th {\n",
       "        vertical-align: top;\n",
       "    }\n",
       "\n",
       "    .dataframe thead th {\n",
       "        text-align: right;\n",
       "    }\n",
       "</style>\n",
       "<table border=\"1\" class=\"dataframe\">\n",
       "  <thead>\n",
       "    <tr style=\"text-align: right;\">\n",
       "      <th></th>\n",
       "      <th>label</th>\n",
       "      <th>pixel1</th>\n",
       "      <th>pixel2</th>\n",
       "      <th>pixel3</th>\n",
       "      <th>pixel4</th>\n",
       "      <th>pixel5</th>\n",
       "      <th>pixel6</th>\n",
       "      <th>pixel7</th>\n",
       "      <th>pixel8</th>\n",
       "      <th>pixel9</th>\n",
       "      <th>...</th>\n",
       "      <th>pixel775</th>\n",
       "      <th>pixel776</th>\n",
       "      <th>pixel777</th>\n",
       "      <th>pixel778</th>\n",
       "      <th>pixel779</th>\n",
       "      <th>pixel780</th>\n",
       "      <th>pixel781</th>\n",
       "      <th>pixel782</th>\n",
       "      <th>pixel783</th>\n",
       "      <th>pixel784</th>\n",
       "    </tr>\n",
       "  </thead>\n",
       "  <tbody>\n",
       "    <tr>\n",
       "      <th>0</th>\n",
       "      <td>2</td>\n",
       "      <td>0</td>\n",
       "      <td>0</td>\n",
       "      <td>0</td>\n",
       "      <td>0</td>\n",
       "      <td>0</td>\n",
       "      <td>0</td>\n",
       "      <td>0</td>\n",
       "      <td>0</td>\n",
       "      <td>0</td>\n",
       "      <td>...</td>\n",
       "      <td>0</td>\n",
       "      <td>0</td>\n",
       "      <td>0</td>\n",
       "      <td>0</td>\n",
       "      <td>0</td>\n",
       "      <td>0</td>\n",
       "      <td>0</td>\n",
       "      <td>0</td>\n",
       "      <td>0</td>\n",
       "      <td>0</td>\n",
       "    </tr>\n",
       "    <tr>\n",
       "      <th>1</th>\n",
       "      <td>9</td>\n",
       "      <td>0</td>\n",
       "      <td>0</td>\n",
       "      <td>0</td>\n",
       "      <td>0</td>\n",
       "      <td>0</td>\n",
       "      <td>0</td>\n",
       "      <td>0</td>\n",
       "      <td>0</td>\n",
       "      <td>0</td>\n",
       "      <td>...</td>\n",
       "      <td>0</td>\n",
       "      <td>0</td>\n",
       "      <td>0</td>\n",
       "      <td>0</td>\n",
       "      <td>0</td>\n",
       "      <td>0</td>\n",
       "      <td>0</td>\n",
       "      <td>0</td>\n",
       "      <td>0</td>\n",
       "      <td>0</td>\n",
       "    </tr>\n",
       "    <tr>\n",
       "      <th>2</th>\n",
       "      <td>6</td>\n",
       "      <td>0</td>\n",
       "      <td>0</td>\n",
       "      <td>0</td>\n",
       "      <td>0</td>\n",
       "      <td>0</td>\n",
       "      <td>0</td>\n",
       "      <td>0</td>\n",
       "      <td>5</td>\n",
       "      <td>0</td>\n",
       "      <td>...</td>\n",
       "      <td>0</td>\n",
       "      <td>0</td>\n",
       "      <td>0</td>\n",
       "      <td>30</td>\n",
       "      <td>43</td>\n",
       "      <td>0</td>\n",
       "      <td>0</td>\n",
       "      <td>0</td>\n",
       "      <td>0</td>\n",
       "      <td>0</td>\n",
       "    </tr>\n",
       "    <tr>\n",
       "      <th>3</th>\n",
       "      <td>0</td>\n",
       "      <td>0</td>\n",
       "      <td>0</td>\n",
       "      <td>0</td>\n",
       "      <td>1</td>\n",
       "      <td>2</td>\n",
       "      <td>0</td>\n",
       "      <td>0</td>\n",
       "      <td>0</td>\n",
       "      <td>0</td>\n",
       "      <td>...</td>\n",
       "      <td>3</td>\n",
       "      <td>0</td>\n",
       "      <td>0</td>\n",
       "      <td>0</td>\n",
       "      <td>0</td>\n",
       "      <td>1</td>\n",
       "      <td>0</td>\n",
       "      <td>0</td>\n",
       "      <td>0</td>\n",
       "      <td>0</td>\n",
       "    </tr>\n",
       "    <tr>\n",
       "      <th>4</th>\n",
       "      <td>3</td>\n",
       "      <td>0</td>\n",
       "      <td>0</td>\n",
       "      <td>0</td>\n",
       "      <td>0</td>\n",
       "      <td>0</td>\n",
       "      <td>0</td>\n",
       "      <td>0</td>\n",
       "      <td>0</td>\n",
       "      <td>0</td>\n",
       "      <td>...</td>\n",
       "      <td>0</td>\n",
       "      <td>0</td>\n",
       "      <td>0</td>\n",
       "      <td>0</td>\n",
       "      <td>0</td>\n",
       "      <td>0</td>\n",
       "      <td>0</td>\n",
       "      <td>0</td>\n",
       "      <td>0</td>\n",
       "      <td>0</td>\n",
       "    </tr>\n",
       "  </tbody>\n",
       "</table>\n",
       "<p>5 rows × 785 columns</p>\n",
       "</div>"
      ],
      "text/plain": [
       "   label  pixel1  pixel2  pixel3  pixel4  pixel5  pixel6  pixel7  pixel8  \\\n",
       "0      2       0       0       0       0       0       0       0       0   \n",
       "1      9       0       0       0       0       0       0       0       0   \n",
       "2      6       0       0       0       0       0       0       0       5   \n",
       "3      0       0       0       0       1       2       0       0       0   \n",
       "4      3       0       0       0       0       0       0       0       0   \n",
       "\n",
       "   pixel9  ...  pixel775  pixel776  pixel777  pixel778  pixel779  pixel780  \\\n",
       "0       0  ...         0         0         0         0         0         0   \n",
       "1       0  ...         0         0         0         0         0         0   \n",
       "2       0  ...         0         0         0        30        43         0   \n",
       "3       0  ...         3         0         0         0         0         1   \n",
       "4       0  ...         0         0         0         0         0         0   \n",
       "\n",
       "   pixel781  pixel782  pixel783  pixel784  \n",
       "0         0         0         0         0  \n",
       "1         0         0         0         0  \n",
       "2         0         0         0         0  \n",
       "3         0         0         0         0  \n",
       "4         0         0         0         0  \n",
       "\n",
       "[5 rows x 785 columns]"
      ]
     },
     "execution_count": 17,
     "metadata": {},
     "output_type": "execute_result"
    }
   ],
   "source": [
    "train.head()"
   ]
  },
  {
   "cell_type": "markdown",
   "metadata": {},
   "source": [
    "# Cleaning data"
   ]
  },
  {
   "cell_type": "code",
   "execution_count": 18,
   "metadata": {},
   "outputs": [
    {
     "data": {
      "text/plain": [
       "0"
      ]
     },
     "execution_count": 18,
     "metadata": {},
     "output_type": "execute_result"
    }
   ],
   "source": [
    "train.isnull().sum().sum()"
   ]
  },
  {
   "cell_type": "code",
   "execution_count": 19,
   "metadata": {},
   "outputs": [
    {
     "data": {
      "text/plain": [
       "<matplotlib.axes._subplots.AxesSubplot at 0x1a57d5fa90>"
      ]
     },
     "execution_count": 19,
     "metadata": {},
     "output_type": "execute_result"
    },
    {
     "data": {
      "image/png": "[encoded data removed]",
      "text/plain": [
       "<Figure size 432x288 with 1 Axes>"
      ]
     },
     "metadata": {
      "needs_background": "light"
     },
     "output_type": "display_data"
    }
   ],
   "source": [
    "sns.countplot(train['label'])"
   ]
  },
  {
   "cell_type": "code",
   "execution_count": 20,
   "metadata": {},
   "outputs": [
    {
     "data": {
      "text/plain": [
       "<matplotlib.image.AxesImage at 0x10efbd080>"
      ]
     },
     "execution_count": 20,
     "metadata": {},
     "output_type": "execute_result"
    },
    {
     "data": {
      "image/png": "[encoded data removed]",
      "text/plain": [
       "<Figure size 432x288 with 1 Axes>"
      ]
     },
     "metadata": {
      "needs_background": "light"
     },
     "output_type": "display_data"
    }
   ],
   "source": [
    "plt.imshow(training[5,1:].reshape((28,28)) ) "
   ]
  },
  {
   "cell_type": "markdown",
   "metadata": {},
   "source": [
    "# Transforming data"
   ]
  },
  {
   "cell_type": "code",
   "execution_count": 21,
   "metadata": {},
   "outputs": [],
   "source": [
    "X = training[:,1:]/255\n",
    "y = training[:,0] "
   ]
  },
  {
   "cell_type": "code",
   "execution_count": 52,
   "metadata": {},
   "outputs": [],
   "source": [
    "from sklearn.model_selection import train_test_split\n",
    "X_train, X_test, y_train, y_test = train_test_split(X,y,test_size=0.15)\n",
    "\n",
    "X_train = np.resize(X_train, (-1, 28,28,1))\n",
    "y_train = np.resize(y_train, (-1, 1))\n",
    "X_test = np.resize(X_test, (-1, 28,28,1))\n",
    "y_test = np.resize(y_test, (-1, 1))"
   ]
  },
  {
   "cell_type": "markdown",
   "metadata": {},
   "source": [
    "# Model"
   ]
  },
  {
   "cell_type": "code",
   "execution_count": 57,
   "metadata": {},
   "outputs": [
    {
     "name": "stderr",
     "output_type": "stream",
     "text": [
      "/opt/anaconda/anaconda3/lib/python3.7/site-packages/ipykernel_launcher.py:8: UserWarning: Update your `Conv2D` call to the Keras 2 API: `Conv2D(64, (3, 3), input_shape=(28, 28, 1..., activation=\"relu\")`\n",
      "  \n",
      "/opt/anaconda/anaconda3/lib/python3.7/site-packages/ipykernel_launcher.py:12: UserWarning: Update your `Dense` call to the Keras 2 API: `Dense(activation=\"relu\", units=32)`\n",
      "  if sys.path[0] == '':\n",
      "/opt/anaconda/anaconda3/lib/python3.7/site-packages/ipykernel_launcher.py:14: UserWarning: Update your `Dense` call to the Keras 2 API: `Dense(activation=\"relu\", units=24)`\n",
      "  \n",
      "/opt/anaconda/anaconda3/lib/python3.7/site-packages/ipykernel_launcher.py:15: UserWarning: Update your `Dense` call to the Keras 2 API: `Dense(activation=\"sigmoid\", units=10)`\n",
      "  from ipykernel import kernelapp as app\n"
     ]
    }
   ],
   "source": [
    "import keras\n",
    "from keras.models import Sequential\n",
    "from keras.layers import Conv2D, MaxPooling2D, Dense, Flatten, Dropout\n",
    "from keras.optimizers import Adam\n",
    "from keras.callbacks import TensorBoard\n",
    "\n",
    "cnn_model = Sequential()\n",
    "cnn_model.add(Conv2D(64, 3, 3, input_shape=(28,28,1), activation='relu'))\n",
    "cnn_model.add(MaxPooling2D(pool_size = (2,2)))\n",
    "cnn_model.add(Dropout(0.25))\n",
    "cnn_model.add(Flatten())\n",
    "cnn_model.add(Dense(output_dim=32, activation='relu'))\n",
    "cnn_model.add(Dropout(0.25))\n",
    "cnn_model.add(Dense(output_dim=24, activation='relu'))\n",
    "cnn_model.add(Dense(output_dim=10, activation='sigmoid'))"
   ]
  },
  {
   "cell_type": "code",
   "execution_count": 58,
   "metadata": {},
   "outputs": [],
   "source": [
    "cnn_model.compile(loss ='sparse_categorical_crossentropy', optimizer=Adam(lr=0.001), metrics =['accuracy'])"
   ]
  },
  {
   "cell_type": "code",
   "execution_count": 59,
   "metadata": {},
   "outputs": [
    {
     "name": "stderr",
     "output_type": "stream",
     "text": [
      "/opt/anaconda/anaconda3/lib/python3.7/site-packages/ipykernel_launcher.py:1: UserWarning: The `nb_epoch` argument in `fit` has been renamed `epochs`.\n",
      "  \"\"\"Entry point for launching an IPython kernel.\n"
     ]
    },
    {
     "name": "stdout",
     "output_type": "stream",
     "text": [
      "Train on 50999 samples, validate on 8999 samples\n",
      "Epoch 1/50\n",
      "50999/50999 [==============================] - 18s 353us/step - loss: 1.4627 - acc: 0.3645 - val_loss: 0.9373 - val_acc: 0.4942\n",
      "Epoch 2/50\n",
      "50999/50999 [==============================] - 17s 340us/step - loss: 0.8493 - acc: 0.6492 - val_loss: 0.5335 - val_acc: 0.7978\n",
      "Epoch 3/50\n",
      "50999/50999 [==============================] - 18s 351us/step - loss: 0.6156 - acc: 0.7746 - val_loss: 0.4569 - val_acc: 0.8408\n",
      "Epoch 4/50\n",
      "50999/50999 [==============================] - 18s 357us/step - loss: 0.5415 - acc: 0.8069 - val_loss: 0.4118 - val_acc: 0.8593\n",
      "Epoch 5/50\n",
      "50999/50999 [==============================] - 19s 374us/step - loss: 0.4948 - acc: 0.8240 - val_loss: 0.4001 - val_acc: 0.8600\n",
      "Epoch 6/50\n",
      "50999/50999 [==============================] - 20s 389us/step - loss: 0.4679 - acc: 0.8330 - val_loss: 0.3702 - val_acc: 0.8733\n",
      "Epoch 7/50\n",
      "50999/50999 [==============================] - 19s 375us/step - loss: 0.4452 - acc: 0.8423 - val_loss: 0.3432 - val_acc: 0.8795\n",
      "Epoch 8/50\n",
      "50999/50999 [==============================] - 18s 349us/step - loss: 0.4227 - acc: 0.8494 - val_loss: 0.3409 - val_acc: 0.8805\n",
      "Epoch 9/50\n",
      "50999/50999 [==============================] - 18s 360us/step - loss: 0.4100 - acc: 0.8540 - val_loss: 0.3250 - val_acc: 0.8877\n",
      "Epoch 10/50\n",
      "50999/50999 [==============================] - 19s 364us/step - loss: 0.3990 - acc: 0.8578 - val_loss: 0.3230 - val_acc: 0.8852\n",
      "Epoch 11/50\n",
      "50999/50999 [==============================] - 18s 350us/step - loss: 0.3868 - acc: 0.8605 - val_loss: 0.3160 - val_acc: 0.8918\n",
      "Epoch 12/50\n",
      "50999/50999 [==============================] - 18s 347us/step - loss: 0.3816 - acc: 0.8636 - val_loss: 0.3089 - val_acc: 0.8912\n",
      "Epoch 13/50\n",
      "50999/50999 [==============================] - 18s 354us/step - loss: 0.3686 - acc: 0.8679 - val_loss: 0.3066 - val_acc: 0.8930\n",
      "Epoch 14/50\n",
      "50999/50999 [==============================] - 18s 356us/step - loss: 0.3583 - acc: 0.8716 - val_loss: 0.2964 - val_acc: 0.8935\n",
      "Epoch 15/50\n",
      "50999/50999 [==============================] - 19s 374us/step - loss: 0.3545 - acc: 0.8725 - val_loss: 0.2916 - val_acc: 0.8983\n",
      "Epoch 16/50\n",
      "50999/50999 [==============================] - 19s 369us/step - loss: 0.3438 - acc: 0.8762 - val_loss: 0.2907 - val_acc: 0.8998\n",
      "Epoch 17/50\n",
      "50999/50999 [==============================] - 19s 373us/step - loss: 0.3350 - acc: 0.8799 - val_loss: 0.2883 - val_acc: 0.8975\n",
      "Epoch 18/50\n",
      "50999/50999 [==============================] - 18s 353us/step - loss: 0.3284 - acc: 0.8816 - val_loss: 0.2810 - val_acc: 0.9015\n",
      "Epoch 19/50\n",
      "50999/50999 [==============================] - 17s 339us/step - loss: 0.3226 - acc: 0.8826 - val_loss: 0.2762 - val_acc: 0.9062\n",
      "Epoch 20/50\n",
      "50999/50999 [==============================] - 18s 343us/step - loss: 0.3212 - acc: 0.8836 - val_loss: 0.2824 - val_acc: 0.9013\n",
      "Epoch 21/50\n",
      "50999/50999 [==============================] - 18s 349us/step - loss: 0.3156 - acc: 0.8877 - val_loss: 0.2823 - val_acc: 0.9024\n",
      "Epoch 22/50\n",
      "50999/50999 [==============================] - 17s 341us/step - loss: 0.3102 - acc: 0.8878 - val_loss: 0.2726 - val_acc: 0.9048\n",
      "Epoch 23/50\n",
      "50999/50999 [==============================] - 17s 341us/step - loss: 0.3061 - acc: 0.8891 - val_loss: 0.2707 - val_acc: 0.9058\n",
      "Epoch 24/50\n",
      "50999/50999 [==============================] - 17s 339us/step - loss: 0.2983 - acc: 0.8911 - val_loss: 0.2707 - val_acc: 0.9043\n",
      "Epoch 25/50\n",
      "50999/50999 [==============================] - 17s 338us/step - loss: 0.2980 - acc: 0.8920 - val_loss: 0.2663 - val_acc: 0.9053\n",
      "Epoch 26/50\n",
      "50999/50999 [==============================] - 17s 339us/step - loss: 0.2953 - acc: 0.8939 - val_loss: 0.2656 - val_acc: 0.9070\n",
      "Epoch 27/50\n",
      "50999/50999 [==============================] - 17s 339us/step - loss: 0.2868 - acc: 0.8952 - val_loss: 0.2653 - val_acc: 0.9065\n",
      "Epoch 28/50\n",
      "50999/50999 [==============================] - 17s 338us/step - loss: 0.2868 - acc: 0.8955 - val_loss: 0.2653 - val_acc: 0.9087\n",
      "Epoch 29/50\n",
      "50999/50999 [==============================] - 17s 337us/step - loss: 0.2818 - acc: 0.8974 - val_loss: 0.2593 - val_acc: 0.9079\n",
      "Epoch 30/50\n",
      "50999/50999 [==============================] - 17s 342us/step - loss: 0.2793 - acc: 0.8983 - val_loss: 0.2635 - val_acc: 0.9081\n",
      "Epoch 31/50\n",
      "50999/50999 [==============================] - 17s 340us/step - loss: 0.2776 - acc: 0.8983 - val_loss: 0.2614 - val_acc: 0.9077\n",
      "Epoch 32/50\n",
      "50999/50999 [==============================] - 17s 338us/step - loss: 0.2701 - acc: 0.9010 - val_loss: 0.2608 - val_acc: 0.9099\n",
      "Epoch 33/50\n",
      "50999/50999 [==============================] - 18s 344us/step - loss: 0.2680 - acc: 0.9014 - val_loss: 0.2557 - val_acc: 0.9104\n",
      "Epoch 34/50\n",
      "50999/50999 [==============================] - 17s 339us/step - loss: 0.2653 - acc: 0.9031 - val_loss: 0.2552 - val_acc: 0.9091\n",
      "Epoch 35/50\n",
      "50999/50999 [==============================] - 17s 338us/step - loss: 0.2620 - acc: 0.9026 - val_loss: 0.2547 - val_acc: 0.9121\n",
      "Epoch 36/50\n",
      "50999/50999 [==============================] - 17s 337us/step - loss: 0.2615 - acc: 0.9035 - val_loss: 0.2573 - val_acc: 0.9100\n",
      "Epoch 37/50\n",
      "50999/50999 [==============================] - 17s 336us/step - loss: 0.2588 - acc: 0.9047 - val_loss: 0.2550 - val_acc: 0.9090\n",
      "Epoch 38/50\n",
      "50999/50999 [==============================] - 17s 338us/step - loss: 0.2536 - acc: 0.9067 - val_loss: 0.2616 - val_acc: 0.9078\n",
      "Epoch 39/50\n",
      "50999/50999 [==============================] - 18s 354us/step - loss: 0.2530 - acc: 0.9064 - val_loss: 0.2513 - val_acc: 0.9114\n",
      "Epoch 40/50\n",
      "50999/50999 [==============================] - 19s 371us/step - loss: 0.2485 - acc: 0.9078 - val_loss: 0.2535 - val_acc: 0.9111\n",
      "Epoch 41/50\n",
      "50999/50999 [==============================] - 19s 378us/step - loss: 0.2473 - acc: 0.9086 - val_loss: 0.2512 - val_acc: 0.9110\n",
      "Epoch 42/50\n",
      "50999/50999 [==============================] - 20s 384us/step - loss: 0.2478 - acc: 0.9078 - val_loss: 0.2539 - val_acc: 0.9100\n",
      "Epoch 43/50\n",
      "50999/50999 [==============================] - 19s 380us/step - loss: 0.2444 - acc: 0.9082 - val_loss: 0.2485 - val_acc: 0.9118\n",
      "Epoch 44/50\n",
      "50999/50999 [==============================] - 19s 377us/step - loss: 0.2399 - acc: 0.9113 - val_loss: 0.2491 - val_acc: 0.9093\n",
      "Epoch 45/50\n",
      "50999/50999 [==============================] - 19s 368us/step - loss: 0.2454 - acc: 0.9089 - val_loss: 0.2530 - val_acc: 0.9080\n",
      "Epoch 46/50\n",
      "50999/50999 [==============================] - 19s 373us/step - loss: 0.2363 - acc: 0.9135 - val_loss: 0.2495 - val_acc: 0.9118\n",
      "Epoch 47/50\n",
      "50999/50999 [==============================] - 19s 367us/step - loss: 0.2363 - acc: 0.9122 - val_loss: 0.2565 - val_acc: 0.9098\n",
      "Epoch 48/50\n",
      "50999/50999 [==============================] - 19s 373us/step - loss: 0.2333 - acc: 0.9122 - val_loss: 0.2578 - val_acc: 0.9118\n",
      "Epoch 49/50\n",
      "50999/50999 [==============================] - 18s 356us/step - loss: 0.2358 - acc: 0.9124 - val_loss: 0.2490 - val_acc: 0.9137\n",
      "Epoch 50/50\n",
      "50999/50999 [==============================] - 18s 352us/step - loss: 0.2306 - acc: 0.9137 - val_loss: 0.2477 - val_acc: 0.9131\n"
     ]
    },
    {
     "data": {
      "text/plain": [
       "<keras.callbacks.History at 0x1a26c18748>"
      ]
     },
     "execution_count": 59,
     "metadata": {},
     "output_type": "execute_result"
    }
   ],
   "source": [
    " cnn_model.fit(X_train, y_train, batch_size = 512, nb_epoch = 50, verbose = 1, validation_data = (X_test, y_test))"
   ]
  },
  {
   "cell_type": "code",
   "execution_count": 60,
   "metadata": {},
   "outputs": [
    {
     "name": "stdout",
     "output_type": "stream",
     "text": [
      "8999/8999 [==============================] - 1s 59us/step\n",
      "Test Accuracy : 0.913\n"
     ]
    }
   ],
   "source": [
    "evaluation = cnn_model.evaluate(X_test, y_test)\n",
    "print('Test Accuracy : {:.3f}'.format(evaluation[1]))"
   ]
  },
  {
   "cell_type": "code",
   "execution_count": null,
   "metadata": {},
   "outputs": [],
   "source": []
  }
 ],
 "metadata": {
  "kernelspec": {
   "display_name": "Python 3",
   "language": "python",
   "name": "python3"
  },
  "language_info": {
   "codemirror_mode": {
    "name": "ipython",
    "version": 3
   },
   "file_extension": ".py",
   "mimetype": "text/x-python",
   "name": "python",
   "nbconvert_exporter": "python",
   "pygments_lexer": "ipython3",
   "version": "3.7.3"
  }
 },
 "nbformat": 4,
 "nbformat_minor": 2
}
